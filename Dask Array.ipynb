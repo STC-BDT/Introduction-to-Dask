{
 "cells": [
  {
   "cell_type": "code",
   "execution_count": null,
   "id": "1e4e22fd-d0ee-4531-b45e-5f16b4d0227b",
   "metadata": {},
   "outputs": [],
   "source": [
    "import dask.array as da\n",
    "import numpy as np"
   ]
  },
  {
   "cell_type": "code",
   "execution_count": null,
   "id": "838ce9f7-3a0c-49e7-8914-a4d7ca990c69",
   "metadata": {},
   "outputs": [],
   "source": []
  },
  {
   "cell_type": "code",
   "execution_count": null,
   "id": "3290267f-821d-4e0a-9a28-f161f52bc781",
   "metadata": {},
   "outputs": [],
   "source": [
    "np.ones((10, 10))"
   ]
  },
  {
   "cell_type": "code",
   "execution_count": null,
   "id": "141d6b75-3ef6-44e0-8166-42b55723dd90",
   "metadata": {},
   "outputs": [],
   "source": [
    "da.ones((10, 10))"
   ]
  },
  {
   "cell_type": "code",
   "execution_count": null,
   "id": "a7f7202f-77f5-463d-8ba2-f01307357f42",
   "metadata": {},
   "outputs": [],
   "source": [
    "da.ones((10, 10)).compute()"
   ]
  },
  {
   "cell_type": "code",
   "execution_count": null,
   "id": "82d7e830-f0a1-423d-b64c-536ba6de1979",
   "metadata": {},
   "outputs": [],
   "source": []
  },
  {
   "cell_type": "code",
   "execution_count": null,
   "id": "ad837b4e-4cf6-49ec-a372-e9d3db91597b",
   "metadata": {},
   "outputs": [],
   "source": [
    "da.ones((10000, 100000, 100))"
   ]
  },
  {
   "cell_type": "code",
   "execution_count": null,
   "id": "1e75776a-b619-42b3-9c64-236134de36da",
   "metadata": {},
   "outputs": [],
   "source": [
    "random_array = da.random.random((10000, 10000, 5))\n",
    "random_array"
   ]
  },
  {
   "cell_type": "code",
   "execution_count": null,
   "id": "f2f249f4-e0e3-4db6-a0ae-a1fc9e6abbd1",
   "metadata": {},
   "outputs": [],
   "source": [
    "random_array.mean(axis=1).compute()"
   ]
  },
  {
   "cell_type": "code",
   "execution_count": null,
   "id": "498274be-232c-4575-b602-8362cb4ede8d",
   "metadata": {},
   "outputs": [],
   "source": []
  }
 ],
 "metadata": {
  "kernelspec": {
   "display_name": "Python 3 (ipykernel)",
   "language": "python",
   "name": "python3"
  },
  "language_info": {
   "codemirror_mode": {
    "name": "ipython",
    "version": 3
   },
   "file_extension": ".py",
   "mimetype": "text/x-python",
   "name": "python",
   "nbconvert_exporter": "python",
   "pygments_lexer": "ipython3",
   "version": "3.11.7"
  }
 },
 "nbformat": 4,
 "nbformat_minor": 5
}
