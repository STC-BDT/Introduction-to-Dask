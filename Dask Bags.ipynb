{
 "cells": [
  {
   "cell_type": "code",
   "execution_count": null,
   "id": "7d63e732-bb67-460d-b686-ce857ae813a1",
   "metadata": {},
   "outputs": [],
   "source": [
    "import dask\n",
    "import json\n",
    "import os\n",
    "import dask.bag as db"
   ]
  },
  {
   "cell_type": "code",
   "execution_count": null,
   "id": "14f101fc-2068-4f52-b451-06973615b59f",
   "metadata": {},
   "outputs": [],
   "source": [
    "dask.datasets.make_people??"
   ]
  },
  {
   "cell_type": "code",
   "execution_count": null,
   "id": "8f8f3d23-c9f2-4374-bd49-b0d3092dbb7d",
   "metadata": {},
   "outputs": [],
   "source": [
    "os.makedirs('data', exist_ok=True)              # Create data/ directory\n",
    "\n",
    "b = dask.datasets.make_people(npartitions=100, records_per_partition=10000)                 # Make records of people\n",
    "b.map(json.dumps).to_textfiles('data/*.json')   # Encode as JSON, write to disk"
   ]
  },
  {
   "cell_type": "code",
   "execution_count": null,
   "id": "507e0a80-0f64-489f-8196-fc306005284c",
   "metadata": {},
   "outputs": [],
   "source": [
    "!head -n 2 data/00.json"
   ]
  },
  {
   "cell_type": "code",
   "execution_count": null,
   "id": "b9fa4973-996e-4843-aab2-b71f4e6d4174",
   "metadata": {},
   "outputs": [],
   "source": []
  },
  {
   "cell_type": "code",
   "execution_count": null,
   "id": "64abe27d-6997-4936-8895-a5e5efd85d71",
   "metadata": {},
   "outputs": [],
   "source": [
    "b = db.read_text('data/*.json').map(json.loads)\n",
    "b"
   ]
  },
  {
   "cell_type": "code",
   "execution_count": null,
   "id": "dde8e04b-5650-442e-a029-44b43604650b",
   "metadata": {},
   "outputs": [],
   "source": [
    "b.take(2)"
   ]
  },
  {
   "cell_type": "code",
   "execution_count": null,
   "id": "83d0b3b5-91cd-4453-814d-42728c729bbd",
   "metadata": {},
   "outputs": [],
   "source": [
    "b.map(lambda x: x['age']).max().compute()"
   ]
  },
  {
   "cell_type": "code",
   "execution_count": null,
   "id": "bf862700-c12a-4f29-abd5-2f1954a40a20",
   "metadata": {},
   "outputs": [],
   "source": [
    "len(b.compute())"
   ]
  },
  {
   "cell_type": "code",
   "execution_count": null,
   "id": "d9017ae3-ecc1-4d42-8192-c19f6a731190",
   "metadata": {},
   "outputs": [],
   "source": []
  },
  {
   "cell_type": "code",
   "execution_count": null,
   "id": "6095d229-cf4a-4b8a-a2aa-a2b78c26dfb5",
   "metadata": {},
   "outputs": [],
   "source": [
    "b.filter(lambda x: x['occupation'] == \"Technician\").compute()"
   ]
  },
  {
   "cell_type": "code",
   "execution_count": null,
   "id": "f8c36eb1-aa47-4da1-bbf6-7e647f7d2de3",
   "metadata": {},
   "outputs": [],
   "source": []
  },
  {
   "cell_type": "code",
   "execution_count": null,
   "id": "d57b5313-6e2e-40cf-9d38-d4d47bab4024",
   "metadata": {},
   "outputs": [],
   "source": [
    "b.map(lambda x: x['occupation']).frequencies().compute()"
   ]
  }
 ],
 "metadata": {
  "kernelspec": {
   "display_name": "Python 3 (ipykernel)",
   "language": "python",
   "name": "python3"
  },
  "language_info": {
   "codemirror_mode": {
    "name": "ipython",
    "version": 3
   },
   "file_extension": ".py",
   "mimetype": "text/x-python",
   "name": "python",
   "nbconvert_exporter": "python",
   "pygments_lexer": "ipython3",
   "version": "3.11.7"
  }
 },
 "nbformat": 4,
 "nbformat_minor": 5
}
