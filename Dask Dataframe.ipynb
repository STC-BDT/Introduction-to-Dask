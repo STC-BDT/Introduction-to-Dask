{
 "cells": [
  {
   "cell_type": "code",
   "execution_count": null,
   "id": "57c3d98c-effe-4983-9f1c-d9ff5b3b096c",
   "metadata": {},
   "outputs": [],
   "source": [
    "from dask.distributed import LocalCluster\n",
    "cluster = LocalCluster()          # Fully-featured local Dask cluster\n",
    "client = cluster.get_client()"
   ]
  },
  {
   "cell_type": "code",
   "execution_count": null,
   "id": "71db2fe7-fb99-450d-821b-4f8daa5ef03c",
   "metadata": {},
   "outputs": [],
   "source": [
    "cluster.dashboard_link"
   ]
  },
  {
   "cell_type": "code",
   "execution_count": null,
   "id": "c96ac429-b2e8-43cc-b7bc-3e904f8436cc",
   "metadata": {},
   "outputs": [],
   "source": []
  },
  {
   "cell_type": "code",
   "execution_count": null,
   "id": "ad62d0ff-606f-4b4a-af37-b9028070aa46",
   "metadata": {},
   "outputs": [],
   "source": [
    "import dask.dataframe as dd\n",
    "import dask.bag as db\n",
    "import json"
   ]
  },
  {
   "cell_type": "code",
   "execution_count": null,
   "id": "4d1ee881-9665-49fc-906d-d5ef0bb61b7f",
   "metadata": {},
   "outputs": [],
   "source": []
  },
  {
   "cell_type": "code",
   "execution_count": null,
   "id": "e5a6816b-010f-4ab1-94ca-424d75519591",
   "metadata": {},
   "outputs": [],
   "source": [
    "b = db.read_text('data/*.json').map(json.loads)\n",
    "b"
   ]
  },
  {
   "cell_type": "code",
   "execution_count": null,
   "id": "dc903f01-60f2-46bf-9e59-847e939e60b8",
   "metadata": {},
   "outputs": [],
   "source": [
    "b.take(1)"
   ]
  },
  {
   "cell_type": "code",
   "execution_count": null,
   "id": "a7f8a90f-49e8-4d06-9d3f-c9097201c71b",
   "metadata": {},
   "outputs": [],
   "source": []
  },
  {
   "cell_type": "code",
   "execution_count": null,
   "id": "7801e676-05d0-48ee-b6e6-b42408d2d6ae",
   "metadata": {},
   "outputs": [],
   "source": []
  },
  {
   "cell_type": "code",
   "execution_count": null,
   "id": "e9d713d2-ed23-495c-839b-d377f3020852",
   "metadata": {},
   "outputs": [],
   "source": [
    "ddf = b.to_dataframe()\n",
    "ddf"
   ]
  },
  {
   "cell_type": "code",
   "execution_count": null,
   "id": "71326dcd-aa21-4316-b5db-73fa83d74852",
   "metadata": {},
   "outputs": [],
   "source": [
    "type(ddf)"
   ]
  },
  {
   "cell_type": "code",
   "execution_count": null,
   "id": "e6774c39-a543-4e51-abaa-da5d5541f3c7",
   "metadata": {},
   "outputs": [],
   "source": []
  },
  {
   "cell_type": "code",
   "execution_count": null,
   "id": "1357552b-484d-4817-aaba-b5ce71dfedba",
   "metadata": {},
   "outputs": [],
   "source": [
    "df = ddf.compute()\n",
    "df"
   ]
  },
  {
   "cell_type": "code",
   "execution_count": null,
   "id": "bcb1e157-da9e-435e-a0a3-ed66857ef15b",
   "metadata": {},
   "outputs": [],
   "source": [
    "type(df)"
   ]
  },
  {
   "cell_type": "code",
   "execution_count": null,
   "id": "f34ff58a-d227-4d13-974d-b9a786ffa79c",
   "metadata": {},
   "outputs": [],
   "source": [
    "ddf.loc[ddf['occupation'] == \"Technician\"].compute()"
   ]
  },
  {
   "cell_type": "code",
   "execution_count": null,
   "id": "98a6d503-0a3e-44f0-accc-f0919e3c4583",
   "metadata": {},
   "outputs": [],
   "source": [
    "ddf.drop(\"name\", axis=\"columns\").groupby('occupation').agg({'age': 'mean'}).compute()"
   ]
  },
  {
   "cell_type": "code",
   "execution_count": null,
   "id": "d289025b-1d08-49f9-92bb-0dc5a2fa6ea4",
   "metadata": {},
   "outputs": [],
   "source": []
  },
  {
   "cell_type": "markdown",
   "id": "e4156654-cd7f-4d44-af78-583bb88a7661",
   "metadata": {},
   "source": [
    "## Dataset partitions"
   ]
  },
  {
   "cell_type": "code",
   "execution_count": null,
   "id": "95a065ba-cb25-480b-b975-c009ad8aa002",
   "metadata": {},
   "outputs": [],
   "source": [
    "ddf.partitions[0].compute()"
   ]
  },
  {
   "cell_type": "code",
   "execution_count": null,
   "id": "3d6c97a8-8ea3-4014-bde5-c25e5ab02819",
   "metadata": {},
   "outputs": [],
   "source": []
  },
  {
   "cell_type": "code",
   "execution_count": null,
   "id": "c1bad403-0363-4689-96e9-7f73922d7d3a",
   "metadata": {},
   "outputs": [],
   "source": [
    "ddf.map_partitions(lambda x: x.size).compute()"
   ]
  },
  {
   "cell_type": "code",
   "execution_count": null,
   "id": "cf1058cb-b1cb-476f-908d-496a11607e71",
   "metadata": {},
   "outputs": [],
   "source": []
  },
  {
   "cell_type": "markdown",
   "id": "6b657eea-1349-4829-a263-1a914708e0be",
   "metadata": {},
   "source": [
    "# Read CSVs"
   ]
  },
  {
   "cell_type": "code",
   "execution_count": null,
   "id": "b861d8c8-e0ad-4cbc-a760-85bb1bf17d77",
   "metadata": {},
   "outputs": [],
   "source": [
    "from google.cloud import storage\n",
    "\n",
    "def list_blobs(bucket_name):\n",
    "    \"\"\"Lists all the blobs in the bucket.\"\"\"\n",
    "    # bucket_name = \"your-bucket-name\"\n",
    "\n",
    "    storage_client = storage.Client.create_anonymous_client()\n",
    "\n",
    "    # Note: Client.list_blobs requires at least package version 1.17.0.\n",
    "    blobs = storage_client.list_blobs(bucket_name)\n",
    "\n",
    "    # Note: The call returns a response only when the iterator is consumed.\n",
    "    for blob in blobs:\n",
    "        print(blob.name)\n",
    "list_blobs('anaconda-public-data')"
   ]
  },
  {
   "cell_type": "code",
   "execution_count": null,
   "id": "b41b3213-b7d6-4ebc-bfe5-03fe49d574cd",
   "metadata": {},
   "outputs": [],
   "source": []
  },
  {
   "cell_type": "code",
   "execution_count": null,
   "id": "c5863428-a598-446d-99d7-959a7f5b6c60",
   "metadata": {},
   "outputs": [],
   "source": [
    "csv_df = dd.read_csv('gcs://anaconda-public-data/nyc-taxi/csv/2015/green_tripdata_2015-03.csv', \n",
    "                 storage_options={'token': 'anon'},\n",
    "                 dtype={'Tolls_amount': 'float64', 'Trip_type ': 'float64'},\n",
    "                 parse_dates=['lpep_pickup_datetime', 'Lpep_dropoff_datetime']\n",
    "                )"
   ]
  },
  {
   "cell_type": "code",
   "execution_count": null,
   "id": "9849da32-f229-455b-840f-9525aba09a6f",
   "metadata": {},
   "outputs": [],
   "source": [
    "csv_df.head()"
   ]
  },
  {
   "cell_type": "code",
   "execution_count": null,
   "id": "07a61fef-0a2c-4b90-bdc7-267b20ed642a",
   "metadata": {},
   "outputs": [],
   "source": []
  }
 ],
 "metadata": {
  "kernelspec": {
   "display_name": "Python 3 (ipykernel)",
   "language": "python",
   "name": "python3"
  },
  "language_info": {
   "codemirror_mode": {
    "name": "ipython",
    "version": 3
   },
   "file_extension": ".py",
   "mimetype": "text/x-python",
   "name": "python",
   "nbconvert_exporter": "python",
   "pygments_lexer": "ipython3",
   "version": "3.11.7"
  }
 },
 "nbformat": 4,
 "nbformat_minor": 5
}
