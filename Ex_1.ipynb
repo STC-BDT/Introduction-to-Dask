{
 "cells": [
  {
   "cell_type": "code",
   "execution_count": 2,
   "id": "17cc1205-e874-436c-ba0a-ac1a9613e203",
   "metadata": {},
   "outputs": [
    {
     "name": "stderr",
     "output_type": "stream",
     "text": [
      "2025-02-01 15:33:59,030 - distributed.shuffle._scheduler_plugin - WARNING - Shuffle 16381d66fc48b425ec8cc67e5c04df4c initialized by task ('shuffle-transfer-16381d66fc48b425ec8cc67e5c04df4c', 43) executed on worker tcp://127.0.0.1:60654\n",
      "2025-02-01 15:34:00,686 - distributed.shuffle._scheduler_plugin - WARNING - Shuffle 16381d66fc48b425ec8cc67e5c04df4c deactivated due to stimulus 'task-finished-1738420440.6856'\n"
     ]
    }
   ],
   "source": [
    "import dask.dataframe as dd\n",
    "import dask.bag as da\n",
    "import os\n",
    "import json\n",
    "import dask\n",
    "\n",
    "from dask.distributed import LocalCluster\n",
    "# dask.config.set(scheduler=\"threads\")\n",
    "cluster = LocalCluster()          # Fully-featured local Dask cluster\n",
    "client = cluster.get_client()"
   ]
  },
  {
   "cell_type": "code",
   "execution_count": 3,
   "id": "3aa3fe8d-8bd8-404b-aeb0-c8748c0c8b7d",
   "metadata": {},
   "outputs": [
    {
     "data": {
      "text/plain": [
       "'http://127.0.0.1:8787/status'"
      ]
     },
     "execution_count": 3,
     "metadata": {},
     "output_type": "execute_result"
    }
   ],
   "source": [
    "cluster.dashboard_link"
   ]
  },
  {
   "cell_type": "code",
   "execution_count": null,
   "id": "75ee47f7-ae5a-4501-a4eb-331d32a1e226",
   "metadata": {},
   "outputs": [],
   "source": []
  },
  {
   "cell_type": "code",
   "execution_count": null,
   "id": "58bd5ee5-c172-45d8-a2ec-4b4714ce0287",
   "metadata": {
    "scrolled": true
   },
   "outputs": [],
   "source": [
    "# os.makedirs('data_ex1', exist_ok=True)              # Create data/ directory\n",
    "\n",
    "# b = dask.datasets.make_people(npartitions=100, records_per_partition=10000)                 # Make records of people\n",
    "# b.map(json.dumps).to_textfiles('data_ex1/*.json')   # Encode as JSON, write to disk"
   ]
  },
  {
   "cell_type": "code",
   "execution_count": null,
   "id": "8031fc2e-0427-46ea-9d13-6438e9dc3762",
   "metadata": {},
   "outputs": [],
   "source": []
  },
  {
   "cell_type": "code",
   "execution_count": 4,
   "id": "912d6ec6-fb60-4e80-a0b5-dc1cb5708afe",
   "metadata": {},
   "outputs": [
    {
     "data": {
      "text/plain": [
       "dask.bag<loads, npartitions=100>"
      ]
     },
     "execution_count": 4,
     "metadata": {},
     "output_type": "execute_result"
    }
   ],
   "source": [
    "people_bag = da.read_text('data/*.json').map(json.loads)\n",
    "people_bag"
   ]
  },
  {
   "cell_type": "code",
   "execution_count": 5,
   "id": "99d48509-7b3b-4620-9d89-8c00a8d3d453",
   "metadata": {},
   "outputs": [
    {
     "data": {
      "text/html": [
       "<div><strong>Dask DataFrame Structure:</strong></div>\n",
       "<table border=\"1\" class=\"dataframe\">\n",
       "  <thead>\n",
       "    <tr style=\"text-align: right;\">\n",
       "      <th></th>\n",
       "      <th>age</th>\n",
       "      <th>name</th>\n",
       "      <th>occupation</th>\n",
       "      <th>telephone</th>\n",
       "      <th>address</th>\n",
       "      <th>credit-card</th>\n",
       "    </tr>\n",
       "    <tr>\n",
       "      <th>npartitions=100</th>\n",
       "      <th></th>\n",
       "      <th></th>\n",
       "      <th></th>\n",
       "      <th></th>\n",
       "      <th></th>\n",
       "      <th></th>\n",
       "    </tr>\n",
       "  </thead>\n",
       "  <tbody>\n",
       "    <tr>\n",
       "      <th></th>\n",
       "      <td>int64</td>\n",
       "      <td>object</td>\n",
       "      <td>object</td>\n",
       "      <td>object</td>\n",
       "      <td>object</td>\n",
       "      <td>object</td>\n",
       "    </tr>\n",
       "    <tr>\n",
       "      <th></th>\n",
       "      <td>...</td>\n",
       "      <td>...</td>\n",
       "      <td>...</td>\n",
       "      <td>...</td>\n",
       "      <td>...</td>\n",
       "      <td>...</td>\n",
       "    </tr>\n",
       "    <tr>\n",
       "      <th>...</th>\n",
       "      <td>...</td>\n",
       "      <td>...</td>\n",
       "      <td>...</td>\n",
       "      <td>...</td>\n",
       "      <td>...</td>\n",
       "      <td>...</td>\n",
       "    </tr>\n",
       "    <tr>\n",
       "      <th></th>\n",
       "      <td>...</td>\n",
       "      <td>...</td>\n",
       "      <td>...</td>\n",
       "      <td>...</td>\n",
       "      <td>...</td>\n",
       "      <td>...</td>\n",
       "    </tr>\n",
       "    <tr>\n",
       "      <th></th>\n",
       "      <td>...</td>\n",
       "      <td>...</td>\n",
       "      <td>...</td>\n",
       "      <td>...</td>\n",
       "      <td>...</td>\n",
       "      <td>...</td>\n",
       "    </tr>\n",
       "  </tbody>\n",
       "</table>\n",
       "<div>Dask Name: from-bag, 1 expression</div>"
      ],
      "text/plain": [
       "Dask DataFrame Structure:\n",
       "                   age    name occupation telephone address credit-card\n",
       "npartitions=100                                                        \n",
       "                 int64  object     object    object  object      object\n",
       "                   ...     ...        ...       ...     ...         ...\n",
       "...                ...     ...        ...       ...     ...         ...\n",
       "                   ...     ...        ...       ...     ...         ...\n",
       "                   ...     ...        ...       ...     ...         ...\n",
       "Dask Name: from-bag, 1 expression\n",
       "Expr=FromGraph(d83a4c4)"
      ]
     },
     "execution_count": 5,
     "metadata": {},
     "output_type": "execute_result"
    }
   ],
   "source": [
    "people_df = people_bag.to_dataframe().persist()\n",
    "people_df"
   ]
  },
  {
   "cell_type": "code",
   "execution_count": 6,
   "id": "ed152972-93e9-4150-9de3-04c60c42a07f",
   "metadata": {},
   "outputs": [
    {
     "data": {
      "text/html": [
       "<div>\n",
       "<style scoped>\n",
       "    .dataframe tbody tr th:only-of-type {\n",
       "        vertical-align: middle;\n",
       "    }\n",
       "\n",
       "    .dataframe tbody tr th {\n",
       "        vertical-align: top;\n",
       "    }\n",
       "\n",
       "    .dataframe thead th {\n",
       "        text-align: right;\n",
       "    }\n",
       "</style>\n",
       "<table border=\"1\" class=\"dataframe\">\n",
       "  <thead>\n",
       "    <tr style=\"text-align: right;\">\n",
       "      <th></th>\n",
       "      <th>age</th>\n",
       "      <th>name</th>\n",
       "      <th>occupation</th>\n",
       "      <th>telephone</th>\n",
       "      <th>address</th>\n",
       "      <th>credit-card</th>\n",
       "    </tr>\n",
       "  </thead>\n",
       "  <tbody>\n",
       "    <tr>\n",
       "      <th>0</th>\n",
       "      <td>15</td>\n",
       "      <td>[Jamar, Payne]</td>\n",
       "      <td>Relocation Agent</td>\n",
       "      <td>+1-914-219-7795</td>\n",
       "      <td>{'address': '242 Kent Plaza', 'city': 'Lawndale'}</td>\n",
       "      <td>{'number': '4287 6644 0252 0398', 'expiration-...</td>\n",
       "    </tr>\n",
       "    <tr>\n",
       "      <th>1</th>\n",
       "      <td>35</td>\n",
       "      <td>[Monet, Oliver]</td>\n",
       "      <td>Administration Manager</td>\n",
       "      <td>+14101190553</td>\n",
       "      <td>{'address': '638 Juanita Bridge', 'city': 'Dal...</td>\n",
       "      <td>{'number': '5103 5221 0018 9560', 'expiration-...</td>\n",
       "    </tr>\n",
       "    <tr>\n",
       "      <th>2</th>\n",
       "      <td>89</td>\n",
       "      <td>[Elin, Phelps]</td>\n",
       "      <td>Analyst</td>\n",
       "      <td>+19714172205</td>\n",
       "      <td>{'address': '758 Davenport Avenue', 'city': 'V...</td>\n",
       "      <td>{'number': '4724 0787 5204 0413', 'expiration-...</td>\n",
       "    </tr>\n",
       "    <tr>\n",
       "      <th>3</th>\n",
       "      <td>50</td>\n",
       "      <td>[Brigid, Potter]</td>\n",
       "      <td>Chartered Accountant</td>\n",
       "      <td>+15738456571</td>\n",
       "      <td>{'address': '444 Sycamore Mews', 'city': 'Kirk...</td>\n",
       "      <td>{'number': '3701 767686 99035', 'expiration-da...</td>\n",
       "    </tr>\n",
       "    <tr>\n",
       "      <th>4</th>\n",
       "      <td>51</td>\n",
       "      <td>[Jasper, Clark]</td>\n",
       "      <td>Zoologist</td>\n",
       "      <td>+19355219495</td>\n",
       "      <td>{'address': '1373 Alemany Station', 'city': 'H...</td>\n",
       "      <td>{'number': '4637 4294 9933 1225', 'expiration-...</td>\n",
       "    </tr>\n",
       "  </tbody>\n",
       "</table>\n",
       "</div>"
      ],
      "text/plain": [
       "   age              name              occupation        telephone  \\\n",
       "0   15    [Jamar, Payne]        Relocation Agent  +1-914-219-7795   \n",
       "1   35   [Monet, Oliver]  Administration Manager     +14101190553   \n",
       "2   89    [Elin, Phelps]                 Analyst     +19714172205   \n",
       "3   50  [Brigid, Potter]    Chartered Accountant     +15738456571   \n",
       "4   51   [Jasper, Clark]               Zoologist     +19355219495   \n",
       "\n",
       "                                             address  \\\n",
       "0  {'address': '242 Kent Plaza', 'city': 'Lawndale'}   \n",
       "1  {'address': '638 Juanita Bridge', 'city': 'Dal...   \n",
       "2  {'address': '758 Davenport Avenue', 'city': 'V...   \n",
       "3  {'address': '444 Sycamore Mews', 'city': 'Kirk...   \n",
       "4  {'address': '1373 Alemany Station', 'city': 'H...   \n",
       "\n",
       "                                         credit-card  \n",
       "0  {'number': '4287 6644 0252 0398', 'expiration-...  \n",
       "1  {'number': '5103 5221 0018 9560', 'expiration-...  \n",
       "2  {'number': '4724 0787 5204 0413', 'expiration-...  \n",
       "3  {'number': '3701 767686 99035', 'expiration-da...  \n",
       "4  {'number': '4637 4294 9933 1225', 'expiration-...  "
      ]
     },
     "execution_count": 6,
     "metadata": {},
     "output_type": "execute_result"
    }
   ],
   "source": [
    "people_df.head()"
   ]
  },
  {
   "cell_type": "code",
   "execution_count": 7,
   "id": "f733bce5-6113-40bf-8db5-8fe1ce2d36fc",
   "metadata": {},
   "outputs": [
    {
     "data": {
      "text/plain": [
       "59.990443"
      ]
     },
     "execution_count": 7,
     "metadata": {},
     "output_type": "execute_result"
    }
   ],
   "source": [
    "people_bag.map(lambda x: x[\"age\"]).mean().compute()"
   ]
  },
  {
   "cell_type": "code",
   "execution_count": 9,
   "id": "4f856abf-3b3a-4d53-9641-8b4aa600a26a",
   "metadata": {
    "scrolled": true
   },
   "outputs": [
    {
     "data": {
      "text/plain": [
       "('Lane', 716)"
      ]
     },
     "execution_count": 9,
     "metadata": {},
     "output_type": "execute_result"
    }
   ],
   "source": [
    "max(people_bag.map(lambda x: x['name'][0]).frequencies().compute(), key=lambda x: x[1])"
   ]
  },
  {
   "cell_type": "code",
   "execution_count": null,
   "id": "9e28f652-c3d1-4e4e-84dd-d0c4c57a37b2",
   "metadata": {},
   "outputs": [],
   "source": []
  },
  {
   "cell_type": "code",
   "execution_count": null,
   "id": "42f455f7-b700-49c2-aa82-a1afab5ab993",
   "metadata": {},
   "outputs": [],
   "source": []
  },
  {
   "cell_type": "code",
   "execution_count": null,
   "id": "2d868193-ffcc-4593-856e-d60d2e29463f",
   "metadata": {},
   "outputs": [],
   "source": []
  },
  {
   "cell_type": "code",
   "execution_count": 12,
   "id": "2d1224dc-8c22-4776-9b8a-fe8b26268427",
   "metadata": {},
   "outputs": [
    {
     "data": {
      "text/html": [
       "<div>\n",
       "<style scoped>\n",
       "    .dataframe tbody tr th:only-of-type {\n",
       "        vertical-align: middle;\n",
       "    }\n",
       "\n",
       "    .dataframe tbody tr th {\n",
       "        vertical-align: top;\n",
       "    }\n",
       "\n",
       "    .dataframe thead th {\n",
       "        text-align: right;\n",
       "    }\n",
       "</style>\n",
       "<table border=\"1\" class=\"dataframe\">\n",
       "  <thead>\n",
       "    <tr style=\"text-align: right;\">\n",
       "      <th></th>\n",
       "      <th>age</th>\n",
       "    </tr>\n",
       "    <tr>\n",
       "      <th>occupation</th>\n",
       "      <th></th>\n",
       "    </tr>\n",
       "  </thead>\n",
       "  <tbody>\n",
       "    <tr>\n",
       "      <th>Proprietor</th>\n",
       "      <td>58.228736</td>\n",
       "    </tr>\n",
       "    <tr>\n",
       "      <th>Probation Officer</th>\n",
       "      <td>60.484524</td>\n",
       "    </tr>\n",
       "    <tr>\n",
       "      <th>Quality Controller</th>\n",
       "      <td>58.478992</td>\n",
       "    </tr>\n",
       "    <tr>\n",
       "      <th>Soldier</th>\n",
       "      <td>58.915909</td>\n",
       "    </tr>\n",
       "    <tr>\n",
       "      <th>Keep Fit Instructor</th>\n",
       "      <td>58.935218</td>\n",
       "    </tr>\n",
       "    <tr>\n",
       "      <th>...</th>\n",
       "      <td>...</td>\n",
       "    </tr>\n",
       "    <tr>\n",
       "      <th>Window Cleaner</th>\n",
       "      <td>62.344098</td>\n",
       "    </tr>\n",
       "    <tr>\n",
       "      <th>Night Watchman</th>\n",
       "      <td>61.026406</td>\n",
       "    </tr>\n",
       "    <tr>\n",
       "      <th>Museum Attendant</th>\n",
       "      <td>60.147219</td>\n",
       "    </tr>\n",
       "    <tr>\n",
       "      <th>Arborist</th>\n",
       "      <td>60.597520</td>\n",
       "    </tr>\n",
       "    <tr>\n",
       "      <th>Marine Geologist</th>\n",
       "      <td>59.304147</td>\n",
       "    </tr>\n",
       "  </tbody>\n",
       "</table>\n",
       "<p>1156 rows × 1 columns</p>\n",
       "</div>"
      ],
      "text/plain": [
       "                           age\n",
       "occupation                    \n",
       "Proprietor           58.228736\n",
       "Probation Officer    60.484524\n",
       "Quality Controller   58.478992\n",
       "Soldier              58.915909\n",
       "Keep Fit Instructor  58.935218\n",
       "...                        ...\n",
       "Window Cleaner       62.344098\n",
       "Night Watchman       61.026406\n",
       "Museum Attendant     60.147219\n",
       "Arborist             60.597520\n",
       "Marine Geologist     59.304147\n",
       "\n",
       "[1156 rows x 1 columns]"
      ]
     },
     "execution_count": 12,
     "metadata": {},
     "output_type": "execute_result"
    }
   ],
   "source": [
    "people_df.drop('name', axis=1).groupby('occupation').agg({'age': 'mean'}).compute()"
   ]
  },
  {
   "cell_type": "code",
   "execution_count": null,
   "id": "0d2a1f73-a265-4160-9ac1-570eabbb88cd",
   "metadata": {},
   "outputs": [],
   "source": []
  },
  {
   "cell_type": "code",
   "execution_count": 13,
   "id": "8a9b33ae-79cc-463b-b22c-67a405746102",
   "metadata": {},
   "outputs": [
    {
     "data": {
      "text/plain": [
       "({'age': 15,\n",
       "  'name': ['Jamar', 'Payne'],\n",
       "  'occupation': 'Relocation Agent',\n",
       "  'telephone': '+1-914-219-7795',\n",
       "  'address': {'address': '242 Kent Plaza', 'city': 'Lawndale'},\n",
       "  'credit-card': {'number': '4287 6644 0252 0398',\n",
       "   'expiration-date': '09/21'}},)"
      ]
     },
     "execution_count": 13,
     "metadata": {},
     "output_type": "execute_result"
    }
   ],
   "source": [
    "people_bag.take(1)"
   ]
  },
  {
   "cell_type": "code",
   "execution_count": null,
   "id": "6f57d9e9-8fa1-451a-9176-21ddd3bb451d",
   "metadata": {},
   "outputs": [],
   "source": []
  },
  {
   "cell_type": "code",
   "execution_count": 19,
   "id": "b8ca0f0f-706c-4b6e-870d-36b26f68165b",
   "metadata": {},
   "outputs": [],
   "source": [
    "card_expering = people_bag.filter(lambda x: x['credit-card']['expiration-date'].split(\"/\")[1] == \"25\")"
   ]
  },
  {
   "cell_type": "code",
   "execution_count": 20,
   "id": "f95067a8-9b29-44ca-86c8-29268f271aab",
   "metadata": {},
   "outputs": [
    {
     "data": {
      "text/plain": [
       "dask.bag<filter-lambda, npartitions=100>"
      ]
     },
     "execution_count": 20,
     "metadata": {},
     "output_type": "execute_result"
    }
   ],
   "source": [
    "card_expering"
   ]
  },
  {
   "cell_type": "code",
   "execution_count": 21,
   "id": "6f133c83-09ed-4423-9dc1-3ce9e913eac3",
   "metadata": {},
   "outputs": [
    {
     "data": {
      "text/plain": [
       "99905"
      ]
     },
     "execution_count": 21,
     "metadata": {},
     "output_type": "execute_result"
    }
   ],
   "source": [
    "card_expering.count().compute()"
   ]
  },
  {
   "cell_type": "code",
   "execution_count": null,
   "id": "24d10bbc-3679-408f-8d7f-a6244393a9f2",
   "metadata": {},
   "outputs": [],
   "source": []
  }
 ],
 "metadata": {
  "kernelspec": {
   "display_name": "Python 3 (ipykernel)",
   "language": "python",
   "name": "python3"
  },
  "language_info": {
   "codemirror_mode": {
    "name": "ipython",
    "version": 3
   },
   "file_extension": ".py",
   "mimetype": "text/x-python",
   "name": "python",
   "nbconvert_exporter": "python",
   "pygments_lexer": "ipython3",
   "version": "3.11.7"
  }
 },
 "nbformat": 4,
 "nbformat_minor": 5
}
