{
 "cells": [
  {
   "cell_type": "code",
   "execution_count": null,
   "id": "17cc1205-e874-436c-ba0a-ac1a9613e203",
   "metadata": {},
   "outputs": [],
   "source": [
    "import dask.dataframe as dd\n",
    "import dask.bag as da\n",
    "import os\n",
    "import json\n",
    "import dask\n",
    "\n",
    "from dask.distributed import LocalCluster\n",
    "cluster = LocalCluster()          # Fully-featured local Dask cluster\n",
    "client = cluster.get_client()"
   ]
  },
  {
   "cell_type": "code",
   "execution_count": null,
   "id": "3aa3fe8d-8bd8-404b-aeb0-c8748c0c8b7d",
   "metadata": {},
   "outputs": [],
   "source": [
    "cluster.dashboard_link"
   ]
  },
  {
   "cell_type": "code",
   "execution_count": null,
   "id": "75ee47f7-ae5a-4501-a4eb-331d32a1e226",
   "metadata": {},
   "outputs": [],
   "source": []
  },
  {
   "cell_type": "code",
   "execution_count": null,
   "id": "58bd5ee5-c172-45d8-a2ec-4b4714ce0287",
   "metadata": {
    "scrolled": true
   },
   "outputs": [],
   "source": [
    "os.makedirs('data_ex1', exist_ok=True)              # Create data/ directory\n",
    "\n",
    "b = dask.datasets.make_people(npartitions=100, records_per_partition=10000)                 # Make records of people\n",
    "b.map(json.dumps).to_textfiles('data_ex1/*.json')   # Encode as JSON, write to disk"
   ]
  },
  {
   "cell_type": "code",
   "execution_count": null,
   "id": "8031fc2e-0427-46ea-9d13-6438e9dc3762",
   "metadata": {},
   "outputs": [],
   "source": []
  },
  {
   "cell_type": "code",
   "execution_count": null,
   "id": "912d6ec6-fb60-4e80-a0b5-dc1cb5708afe",
   "metadata": {},
   "outputs": [],
   "source": [
    "people_bag = da.read_text('data/*.json').map(json.loads)\n",
    "people_bag"
   ]
  },
  {
   "cell_type": "code",
   "execution_count": null,
   "id": "99d48509-7b3b-4620-9d89-8c00a8d3d453",
   "metadata": {},
   "outputs": [],
   "source": [
    "people_df = people_bag.to_dataframe().persist()\n",
    "people_df"
   ]
  },
  {
   "cell_type": "code",
   "execution_count": null,
   "id": "ed152972-93e9-4150-9de3-04c60c42a07f",
   "metadata": {},
   "outputs": [],
   "source": [
    "people_df.head()"
   ]
  },
  {
   "cell_type": "code",
   "execution_count": null,
   "id": "f733bce5-6113-40bf-8db5-8fe1ce2d36fc",
   "metadata": {},
   "outputs": [],
   "source": []
  }
 ],
 "metadata": {
  "kernelspec": {
   "display_name": "Python 3 (ipykernel)",
   "language": "python",
   "name": "python3"
  },
  "language_info": {
   "codemirror_mode": {
    "name": "ipython",
    "version": 3
   },
   "file_extension": ".py",
   "mimetype": "text/x-python",
   "name": "python",
   "nbconvert_exporter": "python",
   "pygments_lexer": "ipython3",
   "version": "3.11.7"
  }
 },
 "nbformat": 4,
 "nbformat_minor": 5
}
