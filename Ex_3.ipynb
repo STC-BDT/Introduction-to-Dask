{
 "cells": [
  {
   "cell_type": "code",
   "execution_count": null,
   "id": "17cc1205-e874-436c-ba0a-ac1a9613e203",
   "metadata": {},
   "outputs": [],
   "source": [
    "import dask.dataframe as dd\n",
    "import dask.bag as da\n",
    "import os\n",
    "import json\n",
    "import dask\n",
    "\n",
    "from dask.distributed import LocalCluster\n",
    "cluster = LocalCluster()          # Fully-featured local Dask cluster\n",
    "client = cluster.get_client()"
   ]
  },
  {
   "cell_type": "code",
   "execution_count": null,
   "id": "3aa3fe8d-8bd8-404b-aeb0-c8748c0c8b7d",
   "metadata": {},
   "outputs": [],
   "source": [
    "cluster.dashboard_link"
   ]
  },
  {
   "cell_type": "code",
   "execution_count": null,
   "id": "75ee47f7-ae5a-4501-a4eb-331d32a1e226",
   "metadata": {},
   "outputs": [],
   "source": []
  },
  {
   "cell_type": "code",
   "execution_count": null,
   "id": "58bd5ee5-c172-45d8-a2ec-4b4714ce0287",
   "metadata": {},
   "outputs": [],
   "source": [
    "df = dd.read_csv('gcs://anaconda-public-data/nyc-taxi/csv/2015/yellow_*.csv', \n",
    "                 storage_options={'token': 'anon'},\n",
    "                parse_dates=['tpep_pickup_datetime', 'tpep_dropoff_datetime'], dtype={'tolls_amount': 'float64'}\n",
    "                )"
   ]
  },
  {
   "cell_type": "code",
   "execution_count": null,
   "id": "8031fc2e-0427-46ea-9d13-6438e9dc3762",
   "metadata": {},
   "outputs": [],
   "source": []
  },
  {
   "cell_type": "code",
   "execution_count": null,
   "id": "912d6ec6-fb60-4e80-a0b5-dc1cb5708afe",
   "metadata": {},
   "outputs": [],
   "source": [
    "df.head()"
   ]
  },
  {
   "cell_type": "code",
   "execution_count": null,
   "id": "497b14b5-2205-4840-8962-ea97903c3b57",
   "metadata": {},
   "outputs": [],
   "source": [
    "df.dtypes"
   ]
  },
  {
   "cell_type": "code",
   "execution_count": null,
   "id": "3feab166-5b52-4217-8e2d-09901b5b7aa1",
   "metadata": {},
   "outputs": [],
   "source": []
  },
  {
   "cell_type": "code",
   "execution_count": null,
   "id": "03982283-feb9-4c92-8010-9917253bb3a7",
   "metadata": {},
   "outputs": [],
   "source": []
  },
  {
   "cell_type": "markdown",
   "id": "8619d6ec-bb3e-4f05-9bae-a8ea57124a8a",
   "metadata": {},
   "source": [
    "Remember to `.persist()` your data if you are going to use it more than once\n",
    "\n",
    "```python\n",
    "df = df.persist()\n",
    "```"
   ]
  },
  {
   "cell_type": "code",
   "execution_count": null,
   "id": "1ab3d6b0-c4f3-4c23-9836-ba4bb473cb5e",
   "metadata": {},
   "outputs": [],
   "source": []
  }
 ],
 "metadata": {
  "kernelspec": {
   "display_name": "Python 3 (ipykernel)",
   "language": "python",
   "name": "python3"
  },
  "language_info": {
   "codemirror_mode": {
    "name": "ipython",
    "version": 3
   },
   "file_extension": ".py",
   "mimetype": "text/x-python",
   "name": "python",
   "nbconvert_exporter": "python",
   "pygments_lexer": "ipython3",
   "version": "3.11.7"
  }
 },
 "nbformat": 4,
 "nbformat_minor": 5
}
