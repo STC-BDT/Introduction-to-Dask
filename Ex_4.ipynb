{
 "cells": [
  {
   "cell_type": "code",
   "execution_count": null,
   "id": "1112873d-3002-46eb-9231-2c3548262400",
   "metadata": {},
   "outputs": [],
   "source": [
    "import dask.dataframe as dd\n",
    "import dask.bag as da\n",
    "import os\n",
    "import json\n",
    "import dask\n",
    "\n",
    "from dask.distributed import LocalCluster\n",
    "cluster = LocalCluster()          # Fully-featured local Dask cluster\n",
    "client = cluster.get_client()"
   ]
  },
  {
   "cell_type": "code",
   "execution_count": null,
   "id": "53d15a35-12eb-43e4-8247-a5d9618207d3",
   "metadata": {},
   "outputs": [],
   "source": [
    "cluster.dashboard_link"
   ]
  },
  {
   "cell_type": "code",
   "execution_count": null,
   "id": "2ad96069-98df-48cc-a993-a10d2b46584f",
   "metadata": {},
   "outputs": [],
   "source": []
  },
  {
   "cell_type": "code",
   "execution_count": null,
   "id": "ca8f85e6-e495-40d7-9741-bb89a92c755f",
   "metadata": {},
   "outputs": [],
   "source": [
    "df = dd.read_parquet('gcs://anaconda-public-data/nyc-taxi/2015.parquet', \n",
    "                 storage_options={'token': 'anon'},\n",
    "                )"
   ]
  },
  {
   "cell_type": "code",
   "execution_count": null,
   "id": "6971238e-b7c9-460c-b257-9478a657b9e2",
   "metadata": {},
   "outputs": [],
   "source": []
  },
  {
   "cell_type": "code",
   "execution_count": null,
   "id": "7447b4da-b506-4bdd-b2ac-85c07ef408e8",
   "metadata": {},
   "outputs": [],
   "source": [
    "df"
   ]
  },
  {
   "cell_type": "code",
   "execution_count": null,
   "id": "6f57728e-9790-47a0-9b1f-874b59135e70",
   "metadata": {},
   "outputs": [],
   "source": [
    "df[[\"VendorID\"]].head()"
   ]
  },
  {
   "cell_type": "code",
   "execution_count": null,
   "id": "c3bc7a7b-42c2-4ed1-842e-7f43487f53cb",
   "metadata": {},
   "outputs": [],
   "source": []
  },
  {
   "cell_type": "code",
   "execution_count": null,
   "id": "06fe3fe7-f4d6-4c8c-9337-d5ea160c06a4",
   "metadata": {},
   "outputs": [],
   "source": [
    "df = dd.read_parquet('gcs://anaconda-public-data/nyc-taxi/2015.parquet', \n",
    "                     storage_options={'token': 'anon'},\n",
    "                     columns=[] # Which columns do you need?\n",
    "                    )\n",
    "df"
   ]
  },
  {
   "cell_type": "code",
   "execution_count": null,
   "id": "5c0e4e59-41a9-4ae6-bbbd-82f91f793987",
   "metadata": {},
   "outputs": [],
   "source": []
  }
 ],
 "metadata": {
  "kernelspec": {
   "display_name": "Python 3 (ipykernel)",
   "language": "python",
   "name": "python3"
  },
  "language_info": {
   "codemirror_mode": {
    "name": "ipython",
    "version": 3
   },
   "file_extension": ".py",
   "mimetype": "text/x-python",
   "name": "python",
   "nbconvert_exporter": "python",
   "pygments_lexer": "ipython3",
   "version": "3.11.7"
  }
 },
 "nbformat": 4,
 "nbformat_minor": 5
}
