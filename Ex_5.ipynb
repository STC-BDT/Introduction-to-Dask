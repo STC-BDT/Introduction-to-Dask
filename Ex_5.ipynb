{
 "cells": [
  {
   "cell_type": "code",
   "execution_count": null,
   "id": "1112873d-3002-46eb-9231-2c3548262400",
   "metadata": {},
   "outputs": [],
   "source": [
    "import dask.dataframe as dd\n",
    "import dask.bag as da\n",
    "import os\n",
    "import json\n",
    "import dask\n",
    "\n",
    "from dask.distributed import LocalCluster\n",
    "cluster = LocalCluster()          # Fully-featured local Dask cluster\n",
    "client = cluster.get_client()"
   ]
  },
  {
   "cell_type": "code",
   "execution_count": null,
   "id": "53d15a35-12eb-43e4-8247-a5d9618207d3",
   "metadata": {},
   "outputs": [],
   "source": [
    "cluster.dashboard_link"
   ]
  },
  {
   "cell_type": "code",
   "execution_count": null,
   "id": "2ad96069-98df-48cc-a993-a10d2b46584f",
   "metadata": {},
   "outputs": [],
   "source": []
  },
  {
   "cell_type": "code",
   "execution_count": null,
   "id": "4df20882-d11f-47bd-b15c-75bb861a9816",
   "metadata": {},
   "outputs": [],
   "source": [
    "import pandas as pd"
   ]
  },
  {
   "cell_type": "code",
   "execution_count": null,
   "id": "77cb5c03-c557-48ae-94d3-cba81a6a781d",
   "metadata": {},
   "outputs": [],
   "source": [
    "pokemon_df = pd.read_csv('Files/pokemonDB_dataset.csv')\n",
    "pokemon_df.head()"
   ]
  },
  {
   "cell_type": "code",
   "execution_count": null,
   "id": "3bf31365-6e7e-4f7f-85ea-3799322dfa8a",
   "metadata": {},
   "outputs": [],
   "source": [
    "trainers = dd.read_parquet('Files/trainers_with_pockemon.parquet')\n",
    "trainers"
   ]
  },
  {
   "cell_type": "code",
   "execution_count": null,
   "id": "8328ba0b-33ce-4194-a22a-43bcf9b42780",
   "metadata": {},
   "outputs": [],
   "source": [
    "trainers.head()"
   ]
  },
  {
   "cell_type": "code",
   "execution_count": null,
   "id": "95bc76e7-8362-47a5-8984-b33bd8649cd1",
   "metadata": {},
   "outputs": [],
   "source": []
  },
  {
   "cell_type": "code",
   "execution_count": null,
   "id": "b9ab1f9b-c5f2-4df5-a053-ba090d484195",
   "metadata": {},
   "outputs": [],
   "source": []
  },
  {
   "cell_type": "code",
   "execution_count": null,
   "id": "37029a93-941b-4417-b969-143b41c8db97",
   "metadata": {},
   "outputs": [],
   "source": []
  }
 ],
 "metadata": {
  "kernelspec": {
   "display_name": "Python 3 (ipykernel)",
   "language": "python",
   "name": "python3"
  },
  "language_info": {
   "codemirror_mode": {
    "name": "ipython",
    "version": 3
   },
   "file_extension": ".py",
   "mimetype": "text/x-python",
   "name": "python",
   "nbconvert_exporter": "python",
   "pygments_lexer": "ipython3",
   "version": "3.11.7"
  }
 },
 "nbformat": 4,
 "nbformat_minor": 5
}
